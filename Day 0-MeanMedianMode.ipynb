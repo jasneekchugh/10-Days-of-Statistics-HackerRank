{
 "cells": [
  {
   "cell_type": "code",
   "execution_count": 1,
   "metadata": {},
   "outputs": [
    {
     "name": "stdout",
     "output_type": "stream",
     "text": [
      "45\n",
      "56\n",
      "56.0\n",
      "56.0\n",
      "56.0\n"
     ]
    }
   ],
   "source": [
    "# Enter your code here. Read input from STDIN. Print output to STDOUT\n",
    "from statistics import mean, median\n",
    "\n",
    "input()\n",
    "num = list(map(float, input().split()))\n",
    "def stats(num):\n",
    "    print(round(mean(num),1))\n",
    "    print(median(num))\n",
    "    print(max(sorted(num), key=num.count))\n",
    "\n",
    "stats(num)\n"
   ]
  },
  {
   "cell_type": "markdown",
   "metadata": {},
   "source": [
    "###### "
   ]
  }
 ],
 "metadata": {
  "kernelspec": {
   "display_name": "Python 3",
   "language": "python",
   "name": "python3"
  },
  "language_info": {
   "codemirror_mode": {
    "name": "ipython",
    "version": 3
   },
   "file_extension": ".py",
   "mimetype": "text/x-python",
   "name": "python",
   "nbconvert_exporter": "python",
   "pygments_lexer": "ipython3",
   "version": "3.7.1"
  }
 },
 "nbformat": 4,
 "nbformat_minor": 2
}
